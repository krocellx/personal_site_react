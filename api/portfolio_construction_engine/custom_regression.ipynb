{
 "cells": [
  {
   "cell_type": "code",
   "execution_count": 11,
   "id": "initial_id",
   "metadata": {
    "collapsed": true,
    "ExecuteTime": {
     "end_time": "2023-12-12T05:24:06.487487Z",
     "start_time": "2023-12-12T05:24:06.485559Z"
    }
   },
   "outputs": [],
   "source": [
    "import os\n",
    "import pandas as pd\n",
    "\n",
    "import custom_index as ci\n",
    "import engine as en"
   ]
  },
  {
   "cell_type": "code",
   "execution_count": 2,
   "outputs": [
    {
     "name": "stdout",
     "output_type": "stream",
     "text": [
      "/Users/zhishengxie/PycharmProjects/personal_site_react/api/portfolio_construction_engine/temp_data\n"
     ]
    }
   ],
   "source": [
    "DATA_DIR = os.path.join(os.getcwd(), 'temp_data')\n",
    "print(DATA_DIR)"
   ],
   "metadata": {
    "collapsed": false,
    "ExecuteTime": {
     "end_time": "2023-12-12T05:19:11.678382Z",
     "start_time": "2023-12-12T05:19:11.674957Z"
    }
   },
   "id": "59c7631fd685c6ad"
  },
  {
   "cell_type": "code",
   "execution_count": 3,
   "outputs": [
    {
     "name": "stdout",
     "output_type": "stream",
     "text": [
      "Fetching data for 2 tickers from 2023-09-05 to 2023-10-01...\n",
      "[*********************100%***********************]  2 of 2 completed\n"
     ]
    }
   ],
   "source": [
    "CUS_INDEX_CONFIG = os.path.join(DATA_DIR, 'custom_index_config.csv')\n",
    "\n",
    "custom_index = ci.CustomIndex()\n",
    "custom_index.load_data_from_csv(CUS_INDEX_CONFIG)\n",
    "custom_index.fetch_ticker_data()\n",
    "custom_index.construct_index()"
   ],
   "metadata": {
    "collapsed": false,
    "ExecuteTime": {
     "end_time": "2023-12-12T05:19:12.031558Z",
     "start_time": "2023-12-12T05:19:11.677986Z"
    }
   },
   "id": "da17f22f56f4432c"
  },
  {
   "cell_type": "code",
   "execution_count": 4,
   "outputs": [
    {
     "data": {
      "text/plain": "Index         index1\nDate                \n2023-09-06 -0.018901\n2023-09-07 -0.019086\n2023-09-08  0.008354\n2023-09-11  0.008801\n2023-09-12 -0.017659\n2023-09-13  0.000538\n2023-09-14  0.008319\n2023-09-15 -0.014595\n2023-09-18  0.006700\n2023-09-19  0.002467\n2023-09-20 -0.021985\n2023-09-21 -0.006378\n2023-09-22 -0.001471\n2023-09-25  0.004526\n2023-09-26 -0.020202\n2023-09-27 -0.003408\n2023-09-28  0.002122\n2023-09-29  0.004887",
      "text/html": "<div>\n<style scoped>\n    .dataframe tbody tr th:only-of-type {\n        vertical-align: middle;\n    }\n\n    .dataframe tbody tr th {\n        vertical-align: top;\n    }\n\n    .dataframe thead th {\n        text-align: right;\n    }\n</style>\n<table border=\"1\" class=\"dataframe\">\n  <thead>\n    <tr style=\"text-align: right;\">\n      <th>Index</th>\n      <th>index1</th>\n    </tr>\n    <tr>\n      <th>Date</th>\n      <th></th>\n    </tr>\n  </thead>\n  <tbody>\n    <tr>\n      <th>2023-09-06</th>\n      <td>-0.018901</td>\n    </tr>\n    <tr>\n      <th>2023-09-07</th>\n      <td>-0.019086</td>\n    </tr>\n    <tr>\n      <th>2023-09-08</th>\n      <td>0.008354</td>\n    </tr>\n    <tr>\n      <th>2023-09-11</th>\n      <td>0.008801</td>\n    </tr>\n    <tr>\n      <th>2023-09-12</th>\n      <td>-0.017659</td>\n    </tr>\n    <tr>\n      <th>2023-09-13</th>\n      <td>0.000538</td>\n    </tr>\n    <tr>\n      <th>2023-09-14</th>\n      <td>0.008319</td>\n    </tr>\n    <tr>\n      <th>2023-09-15</th>\n      <td>-0.014595</td>\n    </tr>\n    <tr>\n      <th>2023-09-18</th>\n      <td>0.006700</td>\n    </tr>\n    <tr>\n      <th>2023-09-19</th>\n      <td>0.002467</td>\n    </tr>\n    <tr>\n      <th>2023-09-20</th>\n      <td>-0.021985</td>\n    </tr>\n    <tr>\n      <th>2023-09-21</th>\n      <td>-0.006378</td>\n    </tr>\n    <tr>\n      <th>2023-09-22</th>\n      <td>-0.001471</td>\n    </tr>\n    <tr>\n      <th>2023-09-25</th>\n      <td>0.004526</td>\n    </tr>\n    <tr>\n      <th>2023-09-26</th>\n      <td>-0.020202</td>\n    </tr>\n    <tr>\n      <th>2023-09-27</th>\n      <td>-0.003408</td>\n    </tr>\n    <tr>\n      <th>2023-09-28</th>\n      <td>0.002122</td>\n    </tr>\n    <tr>\n      <th>2023-09-29</th>\n      <td>0.004887</td>\n    </tr>\n  </tbody>\n</table>\n</div>"
     },
     "execution_count": 4,
     "metadata": {},
     "output_type": "execute_result"
    }
   ],
   "source": [
    "custom_index.returns"
   ],
   "metadata": {
    "collapsed": false,
    "ExecuteTime": {
     "end_time": "2023-12-12T05:19:12.810471Z",
     "start_time": "2023-12-12T05:19:12.797075Z"
    }
   },
   "id": "c05030c10c7d12c0"
  },
  {
   "cell_type": "code",
   "execution_count": 5,
   "outputs": [],
   "source": [
    "# Download factor data from yahoo finance\n",
    "import yfinance as yf\n",
    "def download_data(tickers: list, start_date, end_date, name: str):\n",
    "\n",
    "    data = yf.download(tickers, start=start_date, end=end_date)\n",
    "    data.index.name = 'DATE'\n",
    "    data['Close'].to_csv(os.path.join(DATA_DIR, f'{name}.csv'))\n",
    "\n",
    "    return data\n",
    "NAME = 'factor_data'\n",
    "START_DATE = '2022-01-01'\n",
    "END_DATE = '2023-10-31'\n",
    "tickers=['AAPL', 'MSFT']\n",
    "\n",
    "# FACTOR_DATA = download_data(tickers, START_DATE, END_DATE, NAME)"
   ],
   "metadata": {
    "collapsed": false,
    "ExecuteTime": {
     "end_time": "2023-12-12T05:19:13.877221Z",
     "start_time": "2023-12-12T05:19:13.872377Z"
    }
   },
   "id": "c6f294bc6513c4b5"
  },
  {
   "cell_type": "code",
   "execution_count": 6,
   "outputs": [],
   "source": [
    "PORTFOLIO = en.Portfolio(assets=['index1'], weights=[1])\n",
    "PORTFOLIO.returns = custom_index.returns"
   ],
   "metadata": {
    "collapsed": false,
    "ExecuteTime": {
     "end_time": "2023-12-12T05:19:15.199243Z",
     "start_time": "2023-12-12T05:19:15.193447Z"
    }
   },
   "id": "b1cbef881714bee3"
  },
  {
   "cell_type": "code",
   "execution_count": 7,
   "outputs": [],
   "source": [
    "FACTOR = en.Factor(os.path.join(DATA_DIR, f'{NAME}.csv'), convert_to_fraction=False)"
   ],
   "metadata": {
    "collapsed": false,
    "ExecuteTime": {
     "end_time": "2023-12-12T05:19:15.888405Z",
     "start_time": "2023-12-12T05:19:15.876281Z"
    }
   },
   "id": "ecb3b1fb986806d4"
  },
  {
   "cell_type": "code",
   "execution_count": 22,
   "outputs": [],
   "source": [
    "RESULT = FACTOR.cal_custom_exposure(PORTFOLIO, factor_list=['AAPL', 'MSFT'], cal_excess_return=False)"
   ],
   "metadata": {
    "collapsed": false,
    "ExecuteTime": {
     "end_time": "2023-12-12T05:28:43.866429Z",
     "start_time": "2023-12-12T05:28:43.850215Z"
    }
   },
   "id": "d79006ddee857532"
  },
  {
   "cell_type": "code",
   "execution_count": 33,
   "outputs": [],
   "source": [
    "# Extracting 'regression_stats' without using pop\n",
    "regression_stats = RESULT['full_horizon']['regression_stats'].copy()\n",
    "parameters = regression_stats['Parameters']\n",
    "\n",
    "# Creating DataFrame for regression stats without removing 'Parameters'\n",
    "df_regression_stats = pd.DataFrame([regression_stats])\n",
    "df_regression_stats.drop(columns=['Parameters'], inplace=True)\n",
    "df_regression_stats = df_regression_stats.T.reset_index().rename(columns={'index': 'Regression Stats', 0: 'Value'})\n",
    "# Creating DataFrame for parameters\n",
    "df_parameters = pd.DataFrame(parameters).T\n",
    "df_parameters = df_parameters.reset_index().rename(columns={'index': 'Parameter'})\n"
   ],
   "metadata": {
    "collapsed": false,
    "ExecuteTime": {
     "end_time": "2023-12-12T05:32:11.166189Z",
     "start_time": "2023-12-12T05:32:11.159678Z"
    }
   },
   "id": "1662960beb28f7d7"
  },
  {
   "cell_type": "code",
   "execution_count": 34,
   "outputs": [
    {
     "data": {
      "text/plain": "        Regression Stats                     Value\n0              R-squared                  0.072161\n1            F-statistic                  0.583296\n2        Autocorrelation                  0.058275\n3     Heteroscedasticity                  0.377237\n4            Time period  [2023-09-06, 2023-09-29]\n5                Tickers                  [index1]\n6  Number of data points                        18",
      "text/html": "<div>\n<style scoped>\n    .dataframe tbody tr th:only-of-type {\n        vertical-align: middle;\n    }\n\n    .dataframe tbody tr th {\n        vertical-align: top;\n    }\n\n    .dataframe thead th {\n        text-align: right;\n    }\n</style>\n<table border=\"1\" class=\"dataframe\">\n  <thead>\n    <tr style=\"text-align: right;\">\n      <th></th>\n      <th>Regression Stats</th>\n      <th>Value</th>\n    </tr>\n  </thead>\n  <tbody>\n    <tr>\n      <th>0</th>\n      <td>R-squared</td>\n      <td>0.072161</td>\n    </tr>\n    <tr>\n      <th>1</th>\n      <td>F-statistic</td>\n      <td>0.583296</td>\n    </tr>\n    <tr>\n      <th>2</th>\n      <td>Autocorrelation</td>\n      <td>0.058275</td>\n    </tr>\n    <tr>\n      <th>3</th>\n      <td>Heteroscedasticity</td>\n      <td>0.377237</td>\n    </tr>\n    <tr>\n      <th>4</th>\n      <td>Time period</td>\n      <td>[2023-09-06, 2023-09-29]</td>\n    </tr>\n    <tr>\n      <th>5</th>\n      <td>Tickers</td>\n      <td>[index1]</td>\n    </tr>\n    <tr>\n      <th>6</th>\n      <td>Number of data points</td>\n      <td>18</td>\n    </tr>\n  </tbody>\n</table>\n</div>"
     },
     "execution_count": 34,
     "metadata": {},
     "output_type": "execute_result"
    }
   ],
   "source": [
    "df_regression_stats"
   ],
   "metadata": {
    "collapsed": false,
    "ExecuteTime": {
     "end_time": "2023-12-12T05:32:12.132511Z",
     "start_time": "2023-12-12T05:32:12.121641Z"
    }
   },
   "id": "aaecc9662b194743"
  },
  {
   "cell_type": "code",
   "execution_count": 35,
   "outputs": [
    {
     "data": {
      "text/plain": "  Parameter      coef   std_err   t_value   p_value  \\\n0     const  0.029247  0.150069  0.194888  0.848096   \n1      AAPL -0.001054  0.001215 -0.867596  0.399283   \n2      MSFT  0.000466  0.000436  1.069626  0.301699   \n\n                                           conf_int  \n0         [-0.2906170108170015, 0.3491102442857295]  \n1     [-0.003644753590709702, 0.001535967462604949]  \n2  [-0.00046248059498098476, 0.0013942381086170126]  ",
      "text/html": "<div>\n<style scoped>\n    .dataframe tbody tr th:only-of-type {\n        vertical-align: middle;\n    }\n\n    .dataframe tbody tr th {\n        vertical-align: top;\n    }\n\n    .dataframe thead th {\n        text-align: right;\n    }\n</style>\n<table border=\"1\" class=\"dataframe\">\n  <thead>\n    <tr style=\"text-align: right;\">\n      <th></th>\n      <th>Parameter</th>\n      <th>coef</th>\n      <th>std_err</th>\n      <th>t_value</th>\n      <th>p_value</th>\n      <th>conf_int</th>\n    </tr>\n  </thead>\n  <tbody>\n    <tr>\n      <th>0</th>\n      <td>const</td>\n      <td>0.029247</td>\n      <td>0.150069</td>\n      <td>0.194888</td>\n      <td>0.848096</td>\n      <td>[-0.2906170108170015, 0.3491102442857295]</td>\n    </tr>\n    <tr>\n      <th>1</th>\n      <td>AAPL</td>\n      <td>-0.001054</td>\n      <td>0.001215</td>\n      <td>-0.867596</td>\n      <td>0.399283</td>\n      <td>[-0.003644753590709702, 0.001535967462604949]</td>\n    </tr>\n    <tr>\n      <th>2</th>\n      <td>MSFT</td>\n      <td>0.000466</td>\n      <td>0.000436</td>\n      <td>1.069626</td>\n      <td>0.301699</td>\n      <td>[-0.00046248059498098476, 0.0013942381086170126]</td>\n    </tr>\n  </tbody>\n</table>\n</div>"
     },
     "execution_count": 35,
     "metadata": {},
     "output_type": "execute_result"
    }
   ],
   "source": [
    "df_parameters"
   ],
   "metadata": {
    "collapsed": false,
    "ExecuteTime": {
     "end_time": "2023-12-12T05:32:17.593926Z",
     "start_time": "2023-12-12T05:32:17.581511Z"
    }
   },
   "id": "2f5bfcd8f2a3cbcf"
  },
  {
   "cell_type": "code",
   "execution_count": null,
   "outputs": [],
   "source": [],
   "metadata": {
    "collapsed": false
   },
   "id": "aeaadca982bc16a8"
  }
 ],
 "metadata": {
  "kernelspec": {
   "display_name": "Python 3",
   "language": "python",
   "name": "python3"
  },
  "language_info": {
   "codemirror_mode": {
    "name": "ipython",
    "version": 2
   },
   "file_extension": ".py",
   "mimetype": "text/x-python",
   "name": "python",
   "nbconvert_exporter": "python",
   "pygments_lexer": "ipython2",
   "version": "2.7.6"
  }
 },
 "nbformat": 4,
 "nbformat_minor": 5
}
